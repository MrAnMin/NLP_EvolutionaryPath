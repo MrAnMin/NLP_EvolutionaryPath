{
 "cells": [
  {
   "cell_type": "code",
   "execution_count": 1,
   "id": "701ad8e3-2619-40d8-9bb0-39bca40c6c25",
   "metadata": {},
   "outputs": [],
   "source": [
    "# from torchtext.datasets import WikiText2 #导入 WikiText2 数据集\n",
    "from torchtext.data.utils import get_tokenizer #导入分词器\n",
    "from torchtext.vocab import build_vocab_from_iterator #导入vocabulary工具，用于从一个迭代器构建一个词汇表（Vocabulary），迭代器中包含了分词后的文本数据"
   ]
  },
  {
   "cell_type": "code",
   "execution_count": 40,
   "id": "39040f14-0101-4582-bac2-83fbf951dd55",
   "metadata": {},
   "outputs": [],
   "source": [
    "from torch.utils.data import Dataset, DataLoader\n",
    "import torch\n",
    "import torch.nn as nn\n",
    "\n",
    "max_seq_len = 256"
   ]
  },
  {
   "cell_type": "code",
   "execution_count": 3,
   "id": "d63f74ed-58c0-4fe5-808e-f6fd83ee543a",
   "metadata": {},
   "outputs": [],
   "source": [
    "#获取分词器\n",
    "tokenizer = get_tokenizer('basic_english')"
   ]
  },
  {
   "cell_type": "code",
   "execution_count": 9,
   "id": "d8d82081-583b-4002-a1df-b327166d476f",
   "metadata": {},
   "outputs": [],
   "source": [
    "def load_local_wikitext2(split='train'):\n",
    "    # 定义文件路径\n",
    "    file_path = f'../data/traindata/wikitext-2/wiki.{split}.tokens'\n",
    "    # 读取文件内容\n",
    "    with open(file_path, 'r', encoding='utf-8') as file:\n",
    "        data = file.readlines()\n",
    "    return data"
   ]
  },
  {
   "cell_type": "code",
   "execution_count": null,
   "id": "3a0f7f23-8b40-43ce-b4e0-513754245ebc",
   "metadata": {},
   "outputs": [],
   "source": [
    "train_iter = load_local_wikitext2(split='train')"
   ]
  },
  {
   "cell_type": "code",
   "execution_count": 25,
   "id": "abbe7793-6e8d-450a-8462-fb314b185790",
   "metadata": {},
   "outputs": [
    {
     "name": "stdout",
     "output_type": "stream",
     "text": [
      "词汇表大小: 28785\n",
      "词汇示例(word to index): {'<pad>': 0, '<sos>': 1, '<eos>': 2, 'the': 3, 'apple': 11505}\n"
     ]
    }
   ],
   "source": [
    "# 定义一个生成器函数，用于将数据集中的文本转换为tokens\n",
    "def yield_tokens(data_iter):\n",
    "    for item in data_iter:\n",
    "        yield tokenizer(item)\n",
    "\n",
    "# 创建词汇表，包括特殊tokens：\"<pad>\", \"<sos>\", \"<eos>\"\n",
    "#specials:一个包含特殊符号的列表，如<pad>（填充符），<unk>（未知词标记）等。这些特殊符号会被添加到词汇表的开始位置。\n",
    "vocab = build_vocab_from_iterator(yield_tokens(train_iter), specials=[\"<pad>\", \"<sos>\", \"<eos>\"])\n",
    "# 设置当查询的词汇项不在词汇表中时返回的默认索引值。当查询的词汇不在词汇表中默认返回<pad>的值\n",
    "vocab.set_default_index(vocab[\"<pad>\"])\n",
    "'''\n",
    "vocab的几个方法：\n",
    "__getitem__(self, token): 返回给定词汇项的索引。\n",
    "__len__(self): 返回词汇表中词汇项的数量。\n",
    "get_itos(self): 返回一个列表，其中包含词汇表中所有词汇项，索引即为它们在词汇表中的位置。\n",
    "get_stoi(self): 返回一个字典，键为词汇项，值为它们在词汇表中的索引。\n",
    "set_default_index(self, index): 设置当查询的词汇项不在词汇表中时返回的默认索引值。\n",
    "'''\n",
    "\n",
    "# 打印词汇表信息\n",
    "print(\"词汇表大小:\", len(vocab))\n",
    "print(\"词汇示例(word to index):\", {word: vocab[word] for word in [\"<pad>\", \"<sos>\", \"<eos>\", \"the\", \"apple\"]})"
   ]
  },
  {
   "cell_type": "code",
   "execution_count": 41,
   "id": "68a3af5e-ffdf-4cb0-a24e-6deb0d1fed47",
   "metadata": {},
   "outputs": [],
   "source": [
    "class WikiDataset(Dataset):\n",
    "    def __init__(self, data_iter, vocab, max_len=max_seq_len):\n",
    "        super(WikiDataset, self).__init__()\n",
    "        self.data = []\n",
    "        for sentence in data_iter:\n",
    "            tokens = tokenizer(sentence)[:max_len-2]\n",
    "            tokens = [vocab['<sos>']] + vocab([tokens]) + [vocab['<eos>']]\n",
    "            self.data.append(tokens)\n",
    "    \n",
    "    def __len__(self):\n",
    "        return len(self.data)\n",
    "    \n",
    "    def __getitem__(self, idx):\n",
    "        source = self.data[idx][:-1]\n",
    "        target = self.data[idx][1:]\n",
    "        return torch.LongTensor(source), torch.LongTensor(target)"
   ]
  },
  {
   "cell_type": "code",
   "execution_count": null,
   "id": "3f1a0f18-fdf4-4a71-bdc9-9cc526d840d0",
   "metadata": {},
   "outputs": [],
   "source": []
  }
 ],
 "metadata": {
  "kernelspec": {
   "display_name": "Python 3 (ipykernel)",
   "language": "python",
   "name": "python3"
  },
  "language_info": {
   "codemirror_mode": {
    "name": "ipython",
    "version": 3
   },
   "file_extension": ".py",
   "mimetype": "text/x-python",
   "name": "python",
   "nbconvert_exporter": "python",
   "pygments_lexer": "ipython3",
   "version": "3.8.16"
  }
 },
 "nbformat": 4,
 "nbformat_minor": 5
}

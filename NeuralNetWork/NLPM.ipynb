{
 "cells": [
  {
   "cell_type": "markdown",
   "metadata": {},
   "source": [
    "#### NLPM(Neural Probabilistic Language Model)\n",
    "主要由三部分组成\n",
    "- 输入层：将词汇映射到连续的词向量空间\n",
    "- 隐藏层：通过非线形激活函数学习词与词之间的复杂关系\n",
    "- 输出层：通过softmax函数产生下一个单词的概率分布\n",
    "\n",
    "![image](../data/image/NLPM.jpg)\n",
    "\n",
    "\n",
    "NLPM的历史意义在于开创性地把神经网络技术引入NLP领域。\n",
    "\n",
    "\n"
   ]
  },
  {
   "cell_type": "code",
   "execution_count": 56,
   "metadata": {},
   "outputs": [],
   "source": [
    "import torch\n",
    "import random\n",
    "import torch.nn as nn\n",
    "import torch.nn.functional as F\n",
    "import torch.optim as optim"
   ]
  },
  {
   "cell_type": "markdown",
   "metadata": {},
   "source": [
    "#### 创建一个简单的用于演示的数据集"
   ]
  },
  {
   "cell_type": "code",
   "execution_count": 6,
   "metadata": {},
   "outputs": [],
   "source": [
    "sentences = ['我 喜欢 玩具', '我 爱 爸爸', '我 讨厌 挨打']\n",
    "word_list = list(set(' '.join(sentences).split()))\n",
    "word_to_idx = {word:idx for idx, word in enumerate(word_list)}\n",
    "idx_to_word = {idx:word for idx, word in enumerate(word_list)}\n",
    "voc_size = len(word_list)"
   ]
  },
  {
   "cell_type": "code",
   "execution_count": 54,
   "metadata": {},
   "outputs": [
    {
     "data": {
      "text/plain": [
       "({'挨打': 0, '我': 1, '爱': 2, '爸爸': 3, '讨厌': 4, '玩具': 5, '喜欢': 6},\n",
       " {0: '挨打', 1: '我', 2: '爱', 3: '爸爸', 4: '讨厌', 5: '玩具', 6: '喜欢'},\n",
       " 7)"
      ]
     },
     "execution_count": 54,
     "metadata": {},
     "output_type": "execute_result"
    }
   ],
   "source": [
    "word_to_idx, idx_to_word, voc_size"
   ]
  },
  {
   "cell_type": "markdown",
   "metadata": {},
   "source": [
    "#### 生成NPLM训练数据集"
   ]
  },
  {
   "cell_type": "code",
   "execution_count": 20,
   "metadata": {},
   "outputs": [],
   "source": [
    "batch_size = 2\n",
    "def make_batch():\n",
    "    #定义输入数据列表\n",
    "    intput_batch = []\n",
    "    # 定义输出数据列表\n",
    "    target_batch = []\n",
    "    #随机选取batch_size个句子\n",
    "    selected_sentences = random.sample(sentences, batch_size)\n",
    "    for sen in selected_sentences:\n",
    "        word = sen.split()\n",
    "        input = [word_to_idx[n] for n in word[:-1]]\n",
    "        output = word_to_idx[word[-1]]\n",
    "        intput_batch.append(input)\n",
    "        target_batch.append(output)\n",
    "    input_batch = torch.LongTensor(intput_batch)\n",
    "    target_batch = torch.LongTensor(target_batch)\n",
    "    return input_batch, target_batch"
   ]
  },
  {
   "cell_type": "code",
   "execution_count": 68,
   "metadata": {},
   "outputs": [
    {
     "name": "stdout",
     "output_type": "stream",
     "text": [
      "模型输入数据tensor([[1, 4],\n",
      "        [1, 2]]),对应词[['我', '讨厌'], ['我', '爱']]\n",
      "模型输出数据torch.Size([2]),对应词['挨打', '爸爸']\n"
     ]
    }
   ],
   "source": [
    "input,output = make_batch()\n",
    "input_word = []\n",
    "for input_idx in input:\n",
    "    input_word.append([idx_to_word[idx.item()] for idx in input_idx])\n",
    "print(f\"模型输入数据{input},对应词{input_word}\")\n",
    "target_word = [idx_to_word[idx.item()] for idx in output]\n",
    "print(f\"模型输出数据{output.shape},对应词{target_word}\")"
   ]
  },
  {
   "cell_type": "markdown",
   "metadata": {},
   "source": [
    "#### 定义NPLM模型"
   ]
  },
  {
   "cell_type": "code",
   "execution_count": 71,
   "metadata": {},
   "outputs": [],
   "source": [
    "class NPLM(nn.Module):\n",
    "    def __init__(self, voc_size, embedding_size, n_setp, n_hidden):\n",
    "        super(NPLM, self).__init__()\n",
    "        self.embedding_size = embedding_size\n",
    "        self.n_setp = n_setp\n",
    "        self.embedding = nn.Embedding(voc_size, embedding_size)\n",
    "        self.hidden = nn.Linear(embedding_size * n_setp, n_hidden, bias=True)\n",
    "        self.output = nn.Linear(n_hidden, voc_size,bias=True)\n",
    "        \n",
    "    def forward(self, x):\n",
    "        emb = self.embedding(x).view(-1,self.embedding_size * self.n_setp)\n",
    "        hidden = F.tanh(self.hidden(emb))\n",
    "        out = self.output(hidden)\n",
    "        return out"
   ]
  },
  {
   "cell_type": "code",
   "execution_count": 67,
   "metadata": {},
   "outputs": [
    {
     "name": "stdout",
     "output_type": "stream",
     "text": [
      "torch.Size([2, 4])\n"
     ]
    },
    {
     "data": {
      "text/plain": [
       "torch.Size([2, 7])"
      ]
     },
     "execution_count": 67,
     "metadata": {},
     "output_type": "execute_result"
    }
   ],
   "source": [
    "input = torch.LongTensor([[1,4],[2,3]])\n",
    "model = NPLM(7, 2, 2, 2)\n",
    "model(input).shape"
   ]
  },
  {
   "cell_type": "markdown",
   "metadata": {},
   "source": [
    "#### 训练NPLM模型"
   ]
  },
  {
   "cell_type": "code",
   "execution_count": 74,
   "metadata": {},
   "outputs": [
    {
     "name": "stdout",
     "output_type": "stream",
     "text": [
      "Epoch:1000, cost:0.0006107345107011497\n",
      "Epoch:2000, cost:0.00018952196114696562\n",
      "Epoch:3000, cost:0.00011288482346571982\n",
      "Epoch:4000, cost:5.7516826927894726e-05\n",
      "Epoch:5000, cost:3.2007181289372966e-05\n"
     ]
    }
   ],
   "source": [
    "learning_rate = 0.1\n",
    "epochs = 5000\n",
    "criterion = nn.CrossEntropyLoss()\n",
    "model = NPLM(7, 2, 2, 2)\n",
    "optimizer = optim.Adam(params=model.parameters(), lr=learning_rate)\n",
    "for epoch in range(epochs):\n",
    "    optimizer.zero_grad()\n",
    "    intput_batch, target_batch = make_batch()\n",
    "    output = model(intput_batch)\n",
    "    loss = criterion(output, target_batch)\n",
    "    if (epoch + 1) % 1000 == 0:\n",
    "        print(f\"Epoch:{epoch+1}, cost:{loss.item()}\")\n",
    "    loss.backward()\n",
    "    optimizer.step()"
   ]
  },
  {
   "cell_type": "markdown",
   "metadata": {},
   "source": [
    "#### 使用NPLM预测"
   ]
  },
  {
   "cell_type": "code",
   "execution_count": 100,
   "metadata": {},
   "outputs": [
    {
     "name": "stdout",
     "output_type": "stream",
     "text": [
      "['我', '讨厌'] -> 挨打\n",
      "['我', '喜欢'] -> 玩具\n"
     ]
    }
   ],
   "source": [
    "# 要预测的提示词\n",
    "input_strs = [['我','讨厌'],['我','喜欢']]\n",
    "# 转换为对应的索引\n",
    "input_indices = [[word_to_idx[word] for word in seq] for seq in input_strs]\n",
    "# 转化为张量\n",
    "input_batch = torch.LongTensor(input_indices)\n",
    "# 计算结果，并找到概率最大的\n",
    "predict = model(input_batch).data.max(1).indices\n",
    "\n",
    "predict_str = [idx_to_word[n.item()] for n in predict]\n",
    "\n",
    "for input_seq, pred in zip(input_strs, predict_str):\n",
    "    print(input_seq,'->',pred)"
   ]
  }
 ],
 "metadata": {
  "kernelspec": {
   "display_name": "torch-ENV",
   "language": "python",
   "name": "torch"
  },
  "language_info": {
   "codemirror_mode": {
    "name": "ipython",
    "version": 3
   },
   "file_extension": ".py",
   "mimetype": "text/x-python",
   "name": "python",
   "nbconvert_exporter": "python",
   "pygments_lexer": "ipython3",
   "version": "3.8.5"
  }
 },
 "nbformat": 4,
 "nbformat_minor": 4
}

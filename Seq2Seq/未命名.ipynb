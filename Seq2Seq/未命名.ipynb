{
 "cells": [
  {
   "cell_type": "markdown",
   "metadata": {},
   "source": [
    "#### 构建演示语料库和词汇表\n",
    "\n",
    "数据说明：\n",
    "eg. '小明 喜欢 小冰', '<SOS> XiaoMing likes XiaoBing','XiaoMing likes XiaoBing <EOS>'\n",
    "    \n",
    "- 第一句，中文句子，作为输入序列提供给编码器\n",
    "- 第二句，(<SOS>+目标语言)：英文句子，作为解码器的输入序列。句子以特殊符号<SOS>开头，表示句子的开始。<SOS>有助于解码器学会在何时开始生成目标句子。\n",
    "- 第三句，(目标语言+<EOS>)：也是英文句子，作为解码器的目标输出序列，句子以特殊符号<EOS>结尾，表示句子结束。<EOS>有助于解码器学会在何时结束目标句子的生成。"
   ]
  },
  {
   "cell_type": "code",
   "execution_count": 12,
   "metadata": {},
   "outputs": [],
   "source": [
    "sentences = [\n",
    "    ['小明 喜欢 小冰', '<SOS> XiaoMing likes XiaoBing','XiaoMing likes XiaoBing <EOS>'],\n",
    "    ['我 爱 学习 人工智能', '<SOS> I Love studying AI', 'I Love studying AI <EOS>'],\n",
    "    ['深度学习 改变 世界', '<SOS> DL changed the world', 'DL changed the world <EOS>'],\n",
    "    ['自然 语言 处理 很 强大', '<SOS> NLP is so powerful', 'NLP is so powerful <EOS>'],\n",
    "    ['神经网络 非常 复杂', '<SOS> Neural-Nets are complex', 'Neural-Nets are complex <EOS>']\n",
    "]\n",
    "# 初始化中英文词汇表\n",
    "word_list_cn, word_list_en = [],[]\n",
    "for sent in sentences:\n",
    "    word_list_cn.extend(sent[0].split())\n",
    "    word_list_en.extend(sent[1].split())\n",
    "    word_list_en.extend(sent[2].split())\n",
    "\n",
    "\n",
    "word_list_cn = list(set(word_list_cn))   \n",
    "word_list_en = list(set(word_list_en))\n",
    "\n",
    "word2idx_cn = {word:idx for idx, word in enumerate(word_list_cn)}\n",
    "word2idx_en = {word:idx for idx, word in enumerate(word_list_en)}\n",
    "\n",
    "idx2word_cn = {idx:word for idx, word in enumerate(word_list_cn)}\n",
    "idx2word_en = {idx:word for idx, word in enumerate(word_list_en)}\n",
    "\n",
    "voc_size_cn = len(word_list_cn)\n",
    "voc_size_en = len(word_list_en)"
   ]
  },
  {
   "cell_type": "markdown",
   "metadata": {},
   "source": [
    "#### 生成Seq2Seq训练数据\n",
    "\n",
    "为什么要有解码器输入张量？  \n",
    "在训练阶段，向解码器提供这个信息，模型就能够以正确单词为基础来生成下一个单词，以提高训练速度"
   ]
  },
  {
   "cell_type": "code",
   "execution_count": 33,
   "metadata": {},
   "outputs": [],
   "source": [
    "import random\n",
    "import torch"
   ]
  },
  {
   "cell_type": "code",
   "execution_count": 37,
   "metadata": {},
   "outputs": [],
   "source": [
    "def make_data(sentences):\n",
    "    random_sentence = random.choice(sentences)\n",
    "    \n",
    "    encoder_input = [word2idx_cn[sent] for sent in random_sentence[0].split()]\n",
    "    \n",
    "    decoder_input = [word2idx_en[sent] for sent in random_sentence[1].split()]\n",
    "    \n",
    "    target = [word2idx_en[sent] for sent in random_sentence[2].split()]\n",
    "    \n",
    "    encoder_input = torch.LongTensor(encoder_input).unsqueeze(0)\n",
    "    decoder_input = torch.LongTensor(decoder_input).unsqueeze(0)\n",
    "    target = torch.LongTensor(target).unsqueeze(0)\n",
    "    \n",
    "    return random_sentence, encoder_input, decoder_input, target"
   ]
  },
  {
   "cell_type": "code",
   "execution_count": 38,
   "metadata": {},
   "outputs": [
    {
     "name": "stdout",
     "output_type": "stream",
     "text": [
      "文本为:['深度学习 改变 世界', '<SOS> DL changed the world', 'DL changed the world <EOS>']\n",
      "编码器输入数据:tensor([[ 0, 10, 13]]), 维度:torch.Size([1, 3])\n",
      "解码器输入数据:tensor([[18,  9, 17,  8, 13]]), 维度:torch.Size([1, 5])\n",
      "目标数据:tensor([[ 9, 17,  8, 13, 19]]), 维度:torch.Size([1, 5])\n"
     ]
    }
   ],
   "source": [
    "random_sentence, encoder_input, decoder_input, target = make_data(sentences)\n",
    "print(f\"文本为:{random_sentence}\")\n",
    "print(f\"编码器输入数据:{encoder_input}, 维度:{encoder_input.shape}\")\n",
    "print(f\"解码器输入数据:{decoder_input}, 维度:{decoder_input.shape}\")\n",
    "print(f\"目标数据:{target}, 维度:{target.shape}\")"
   ]
  },
  {
   "cell_type": "markdown",
   "metadata": {},
   "source": [
    "#### 构建编码器和解码器"
   ]
  },
  {
   "cell_type": "code",
   "execution_count": 41,
   "metadata": {},
   "outputs": [],
   "source": [
    "import torch.nn as nn"
   ]
  },
  {
   "cell_type": "code",
   "execution_count": 91,
   "metadata": {},
   "outputs": [],
   "source": [
    "class Encoder(nn.Module):\n",
    "    def __init__(self,voc_size_cn, n_hidden):\n",
    "        super().__init__()\n",
    "        self.embedd = nn.Embedding(voc_size_cn, n_hidden)\n",
    "        self.rnn = nn.RNN(n_hidden, n_hidden, batch_first=True)\n",
    "    \n",
    "    def forward(self, inputs, hidden):\n",
    "        embedd = self.embedd(inputs)\n",
    "        output, hidden = self.rnn(embedd, hidden)\n",
    "        return output, hidden"
   ]
  },
  {
   "cell_type": "code",
   "execution_count": 92,
   "metadata": {},
   "outputs": [],
   "source": [
    "class Attention(nn.Module):\n",
    "    def __init__(self):\n",
    "        super(Attention, self).__init__()\n",
    "        \n",
    "    def forward(self, encoder_context, decoder_context):\n",
    "        \"\"\"\n",
    "        decoder_context做为Q,\n",
    "        encpder_context作为K和V\n",
    "        \"\"\"\n",
    "        # [btach, 一行token的个数, hidden] -> [btach, 一行token的个数, 一行token的个数]\n",
    "        score = torch.matmul(decoder_context, encoder_context.transpose(-2,-1))\n",
    "        atten_weight = nn.functional.softmax(score, dim=-1)\n",
    "        # [btach, 一行token的个数, 一行token的个数] -> [btach, 一行token的个数,hidden]\n",
    "        context = torch.matmul(atten_weight, encoder_context)\n",
    "        return context, atten_weight"
   ]
  },
  {
   "cell_type": "code",
   "execution_count": 93,
   "metadata": {},
   "outputs": [],
   "source": [
    "class DecoderWithAttention(nn.Module):\n",
    "    def __init__(self, voc_size_en, n_hidden):\n",
    "        super(Decoder, self).__init__()\n",
    "        self.embedd = nn.Embedding(voc_size_en, n_hidden)\n",
    "        self.rnn = nn.RNN(n_hidden, n_hidden, batch_first=True)\n",
    "        self.atten = Attention()\n",
    "        self.linear = nn.Linear(2 * n_hidden, voc_size_en, bias=True)\n",
    "    \n",
    "    def forward(self, dec_input, hidden, enc_output):\n",
    "        # [batch_size, token长度] -> [batch_size, token长度, n_hidden]\n",
    "        embedd = self.embedd(dec_input)\n",
    "        rnn_output, hidden = self.rnn(embedd, hidden)\n",
    "        context, atten_weight = self.atten(enc_output, rnn_output)\n",
    "        dec_output = torch.cat((output, context),dim=-1)\n",
    "        dec_output = self.linear(dec_output)\n",
    "        return dec_output, context, atten_weight"
   ]
  },
  {
   "cell_type": "code",
   "execution_count": 95,
   "metadata": {},
   "outputs": [],
   "source": [
    "class Seq2Seq(nn.Module):\n",
    "    def __init__(self, encoder, decoder):\n",
    "        self.encoder = encoder\n",
    "        self.decoder = decoder\n",
    "    \n",
    "    def forward(self, encoder_input, hidden, decoder_input):\n",
    "        encoder_output, encoder_hidden = self.encoder(encoder_input, hidden)\n",
    "        decoder_output, _, atten_weight = self.decoder(decoder_input, encoder_hidden, encoder_output)\n",
    "        return decoder_output, atten_weight   "
   ]
  },
  {
   "cell_type": "code",
   "execution_count": 80,
   "metadata": {},
   "outputs": [
    {
     "name": "stdout",
     "output_type": "stream",
     "text": [
      "torch.Size([1, 4, 20])\n"
     ]
    }
   ],
   "source": [
    "model = Decoder(voc_size_en,128)\n",
    "x = torch.LongTensor([[1,2,3,4]])\n",
    "n_hidden = torch.zeros(1, x.size(0),128)\n",
    "print(model(x, n_hidden).shape)"
   ]
  },
  {
   "cell_type": "code",
   "execution_count": 73,
   "metadata": {},
   "outputs": [],
   "source": [
    "x = torch.randn(2, 3)  # 一个2x3的张量\n",
    "y = torch.randn(2, 3)  # 另一个2x3的张量"
   ]
  },
  {
   "cell_type": "code",
   "execution_count": 75,
   "metadata": {},
   "outputs": [
    {
     "data": {
      "text/plain": [
       "torch.Size([2, 6])"
      ]
     },
     "execution_count": 75,
     "metadata": {},
     "output_type": "execute_result"
    }
   ],
   "source": [
    "torch.cat((x,y), 1).shape"
   ]
  }
 ],
 "metadata": {
  "kernelspec": {
   "display_name": "torch-ENV",
   "language": "python",
   "name": "torch"
  },
  "language_info": {
   "codemirror_mode": {
    "name": "ipython",
    "version": 3
   },
   "file_extension": ".py",
   "mimetype": "text/x-python",
   "name": "python",
   "nbconvert_exporter": "python",
   "pygments_lexer": "ipython3",
   "version": "3.8.5"
  }
 },
 "nbformat": 4,
 "nbformat_minor": 4
}

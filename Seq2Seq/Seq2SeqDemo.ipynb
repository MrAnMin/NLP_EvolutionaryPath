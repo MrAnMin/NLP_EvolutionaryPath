{
 "cells": [
  {
   "cell_type": "markdown",
   "metadata": {},
   "source": [
    "#### Seq2Seq\n",
    "\n",
    "\n",
    "![image](../data/image/seq2seq.jpg)\n",
    "\n",
    "![image](../data/image/EncoderDecoder.jpg)\n",
    "\n",
    "模型中有两个主要组件\n",
    "- 编码器（Encoder）：负责将输入序列转换为固定大小的向量表示，编码器采用RNN、LSTM或GRU等模型，编码器会逐个处理输入序列中的元素，在每个时间步更新其隐藏状态，最后，编码器会生成一个上下文向量，它包含了整个输入序列的信息。\n",
    "- 解码器（Decoder）：负责将编码器生成的上下文向量转换为输出序列。解码器采用RNN、LSTM或GRU等模型，使用来自编码器的上下文向量作为其初始隐藏状态，并逐个生成输出序列中的元素。在每个时步，解码器根据当前隐藏状态、生成的上一个输出元素及其他可能的信息，来生成下一个输出的元素\n",
    "\n"
   ]
  },
  {
   "cell_type": "markdown",
   "metadata": {},
   "source": [
    "#### 构建演示语料库和词汇表\n",
    "\n",
    "数据说明：\n",
    "eg. '小明 喜欢 小冰', '<SOS> XiaoMing likes XiaoBing','XiaoMing likes XiaoBing <EOS>'\n",
    "    \n",
    "- 第一句，中文句子，作为输入序列提供给编码器\n",
    "- 第二句，(<SOS>+目标语言)：英文句子，作为解码器的输入序列。句子以特殊符号<SOS>开头，表示句子的开始。<SOS>有助于解码器学会在何时开始生成目标句子。\n",
    "- 第三句，(目标语言+<EOS>)：也是英文句子，作为解码器的目标输出序列，句子以特殊符号<EOS>结尾，表示句子结束。<EOS>有助于解码器学会在何时结束目标句子的生成。"
   ]
  },
  {
   "cell_type": "code",
   "execution_count": 1,
   "metadata": {},
   "outputs": [],
   "source": [
    "\n",
    "sentences = [\n",
    "    ['小明 喜欢 小冰', '<SOS> XiaoMing likes XiaoBing','XiaoMing likes XiaoBing <EOS>'],\n",
    "    ['我 爱 学习 人工智能', '<SOS> I Love studying AI', 'I Love studying AI <EOS>'],\n",
    "    ['深度学习 改变 世界', '<SOS> DL changed the world', 'DL changed the world <EOS>'],\n",
    "    ['自然 语言 处理 很 强大', '<SOS> NLP is so powerful', 'NLP is so powerful <EOS>'],\n",
    "    ['神经网络 非常 复杂', '<SOS> Neural-Nets are complex', 'Neural-Nets are complex <EOS>']\n",
    "]\n",
    "# 初始化中英文词汇表\n",
    "word_list_cn, word_list_en = [],[]\n",
    "\n",
    "for sent in sentences:\n",
    "    word_list_cn.extend(sent[0].split())\n",
    "    word_list_en.extend(sent[1].split())\n",
    "    word_list_en.extend(sent[2].split())\n",
    "\n",
    "word_list_cn = list(set(word_list_cn))\n",
    "word_list_en = list(set(word_list_en))\n",
    "\n",
    "word2idx_cn = {word:idx for idx, word in enumerate(word_list_cn)}\n",
    "word2idx_en = {word:idx for idx, word in enumerate(word_list_en)}\n",
    "\n",
    "idx2word_cn = {idx:word for idx, word in enumerate(word_list_cn)}\n",
    "idx2word_en = {idx:word for idx, word in enumerate(word_list_en)}\n",
    "\n",
    "voc_size_cn = len(word_list_cn)\n",
    "voc_size_en = len(word_list_en)"
   ]
  },
  {
   "cell_type": "markdown",
   "metadata": {},
   "source": [
    "#### 生成Seq2Seq训练数据\n",
    "\n",
    "为什么要有解码器输入张量？  \n",
    "在训练阶段，向解码器提供这个信息，模型就能够以正确单词为基础来生成下一个单词，以提高训练速度"
   ]
  },
  {
   "cell_type": "code",
   "execution_count": 2,
   "metadata": {},
   "outputs": [],
   "source": [
    "import random\n",
    "import numpy as np\n",
    "import torch"
   ]
  },
  {
   "cell_type": "code",
   "execution_count": 3,
   "metadata": {},
   "outputs": [],
   "source": [
    "def make_data(sentences):\n",
    "    #从数据中随机抽取一对数据\n",
    "    random_sentence = random.choice(sentences)\n",
    "    #对编码器输入数据序列进行编码\n",
    "    encoder_input = [word2idx_cn[sen] for sen in random_sentence[0].split()]\n",
    "    #对解码器输入数据序列进行编码\n",
    "    decoder_input = [word2idx_en[sen] for sen in random_sentence[1].split()]\n",
    "    #对编码器输入数据序列进行编码\n",
    "    target = [word2idx_en[sen] for sen in random_sentence[2].split()]\n",
    "    \n",
    "    encoder_input = torch.LongTensor(encoder_input).unsqueeze(0)\n",
    "    decoder_input = torch.LongTensor(decoder_input).unsqueeze(0)\n",
    "    target = torch.LongTensor(target).unsqueeze(0)\n",
    "    return encoder_input, decoder_input, target"
   ]
  },
  {
   "cell_type": "code",
   "execution_count": 5,
   "metadata": {},
   "outputs": [
    {
     "name": "stdout",
     "output_type": "stream",
     "text": [
      "编码器输入张量:  tensor([[ 0, 14, 17]])\n",
      "解码器输入张量:  tensor([[18, 12,  8, 15,  4]])\n",
      "目标张量:  tensor([[12,  8, 15,  4, 16]])\n"
     ]
    }
   ],
   "source": [
    "encoder_input, decoder_input, target = make_data(sentences)\n",
    "# print(\"原始句子:\", random_sentence)\n",
    "print(\"编码器输入张量: \", encoder_input)\n",
    "print(\"解码器输入张量: \", decoder_input)\n",
    "print(\"目标张量: \", target)"
   ]
  },
  {
   "cell_type": "markdown",
   "metadata": {},
   "source": [
    "#### 构建编码器和解码器"
   ]
  },
  {
   "cell_type": "code",
   "execution_count": 6,
   "metadata": {},
   "outputs": [],
   "source": [
    "import torch.nn as nn"
   ]
  },
  {
   "cell_type": "code",
   "execution_count": 7,
   "metadata": {},
   "outputs": [],
   "source": [
    "class Encoder(nn.Module):\n",
    "    def __init__(self, input_size, hidden_size):\n",
    "        super(Encoder, self).__init__()\n",
    "        #词嵌入 word embedding\n",
    "        self.embedd = nn.Embedding(input_size, hidden_size)\n",
    "        self.rnn = nn.RNN(hidden_size, hidden_size, batch_first=True)\n",
    "    \n",
    "    def forward(self, inputs, hidden):\n",
    "        embedded = self.embedd(inputs)\n",
    "        output, hidden = self.rnn(embedded, hidden)\n",
    "        return output, hidden"
   ]
  },
  {
   "cell_type": "code",
   "execution_count": 38,
   "metadata": {},
   "outputs": [
    {
     "name": "stdout",
     "output_type": "stream",
     "text": [
      "torch.Size([1, 4, 128])\n",
      "torch.Size([1, 4, 128]) torch.Size([1, 1, 128])\n"
     ]
    }
   ],
   "source": [
    "encoder = Encoder(voc_size_cn, 128)\n",
    "input = torch.LongTensor([[1,2,3,4]])\n",
    "hidden = torch.zeros(1,input.size(0),128)\n",
    "output,hiddens= encoder(input, hidden)\n",
    "print(output.shape, hiddens.shape)"
   ]
  },
  {
   "cell_type": "code",
   "execution_count": 8,
   "metadata": {},
   "outputs": [],
   "source": [
    "class Decoder(nn.Module):\n",
    "    def __init__(self, hidden_size, output_size):\n",
    "        super(Decoder, self).__init__()\n",
    "        self.embedd = nn.Embedding(output_size, hidden_size)\n",
    "        self.rnn = nn.RNN(hidden_size, hidden_size, batch_first=True)\n",
    "        self.out = nn.Linear(hidden_size, output_size)\n",
    "        \n",
    "    def forward(self, inputs, hidden):\n",
    "        embedded = self.embedd(inputs)\n",
    "        output, hidden = self.rnn(embedded, hidden)\n",
    "        output = self.out(output)\n",
    "        return output, hidden"
   ]
  },
  {
   "cell_type": "code",
   "execution_count": 41,
   "metadata": {},
   "outputs": [
    {
     "name": "stdout",
     "output_type": "stream",
     "text": [
      "torch.Size([1, 4, 20]) torch.Size([1, 1, 128])\n"
     ]
    }
   ],
   "source": [
    "decoder = Decoder(128, voc_size_en)\n",
    "input = torch.LongTensor([[1,2,3,4]])\n",
    "# hidden = torch.zeros(1,input.size(0),128)\n",
    "output,hiddens= decoder(input, hiddens)\n",
    "print(output.shape, hiddens.shape)"
   ]
  },
  {
   "cell_type": "code",
   "execution_count": 9,
   "metadata": {},
   "outputs": [],
   "source": [
    "class Seq2Seq(nn.Module):\n",
    "    def __init__(self, encoder, decoder):\n",
    "        super(Seq2Seq, self).__init__()\n",
    "        self.encoder = encoder\n",
    "        self.decoder = decoder\n",
    "        \n",
    "    def forward(self, enc_input, hidden, dec_input):\n",
    "        encoder_output, encoder_hidden = self.encoder(enc_input, hidden)\n",
    "        decoder_hidden = encoder_hidden\n",
    "        decoder_output, _ = self.decoder(dec_input, decoder_hidden)\n",
    "        return decoder_output\n",
    "        "
   ]
  },
  {
   "cell_type": "markdown",
   "metadata": {},
   "source": [
    "#### 训练Seq2Seq模型"
   ]
  },
  {
   "cell_type": "code",
   "execution_count": 10,
   "metadata": {},
   "outputs": [],
   "source": [
    "def train_seq2seq(model, criterion, optimizer, epochs):\n",
    "    '''\n",
    "    model：模型\n",
    "    criterion：损失函数\n",
    "    optimizer：优化器\n",
    "    epochs：迭代次数\n",
    "    '''\n",
    "    for epoch in range(epochs):\n",
    "        encoder_input, decoder_input, target = make_data(sentences)\n",
    "        hidden = torch.zeros(1, encoder_input.size(0), n_hidden)\n",
    "        optimizer.zero_grad()\n",
    "        output = model(encoder_input, hidden, decoder_input)\n",
    "        loss = criterion(output.view(-1,voc_size_en), target.view(-1))\n",
    "        if(epoch + 1) % 40 == 0:\n",
    "            print(f'Epoch:{epoch+1:04d} cost = {loss:6f}')\n",
    "        loss.backward()\n",
    "        optimizer.step()  "
   ]
  },
  {
   "cell_type": "code",
   "execution_count": 11,
   "metadata": {},
   "outputs": [
    {
     "name": "stdout",
     "output_type": "stream",
     "text": [
      "Epoch:0040 cost = 0.839249\n",
      "Epoch:0080 cost = 0.059344\n",
      "Epoch:0120 cost = 0.048464\n",
      "Epoch:0160 cost = 0.035758\n",
      "Epoch:0200 cost = 0.016393\n",
      "Epoch:0240 cost = 0.013099\n",
      "Epoch:0280 cost = 0.015326\n",
      "Epoch:0320 cost = 0.010872\n",
      "Epoch:0360 cost = 0.009402\n",
      "Epoch:0400 cost = 0.007468\n"
     ]
    }
   ],
   "source": [
    "epochs = 400\n",
    "n_hidden = 128\n",
    "criterion = nn.CrossEntropyLoss()\n",
    "encoder = Encoder(voc_size_cn, n_hidden)\n",
    "decoder = Decoder(n_hidden, voc_size_en)\n",
    "model = Seq2Seq(encoder, decoder)\n",
    "optimizer = torch.optim.Adam(params=model.parameters(),lr=0.001)\n",
    "train_seq2seq(model,criterion,optimizer,epochs)"
   ]
  },
  {
   "cell_type": "markdown",
   "metadata": {},
   "source": [
    "#### 测试，使用训练的Seq2Seq模型"
   ]
  },
  {
   "cell_type": "code",
   "execution_count": 38,
   "metadata": {},
   "outputs": [],
   "source": [
    "def test_seq2seq(model, source_sentence):\n",
    "    encoder_input = torch.LongTensor([word2idx_cn[n] for n in source_sentence.split()])\n",
    "    decoder_input = torch.LongTensor([word2idx_en['<SOS>']] + [word2idx_en['<EOS>']] * (len(encoder_input)-1))\n",
    "    encoder_input = encoder_input.unsqueeze(0)\n",
    "    decoder_input = decoder_input.unsqueeze(0)\n",
    "    hidden = torch.zeros(1, encoder_input.size(0), n_hidden)\n",
    "    predict = model(encoder_input, hidden, decoder_input)\n",
    "    predict = predict.data.max(dim=2, keepdim=True)[1]\n",
    "    print(source_sentence, '->',[idx2word_en[n.item()] for n in predict.squeeze()])"
   ]
  },
  {
   "cell_type": "code",
   "execution_count": 42,
   "metadata": {},
   "outputs": [
    {
     "name": "stdout",
     "output_type": "stream",
     "text": [
      "小明 喜欢 小冰 -> ['XiaoMing', 'likes', 'XiaoBing']\n"
     ]
    }
   ],
   "source": [
    "predict = test_seq2seq(model, '小明 喜欢 小冰')"
   ]
  },
  {
   "cell_type": "code",
   "execution_count": null,
   "metadata": {},
   "outputs": [],
   "source": []
  }
 ],
 "metadata": {
  "kernelspec": {
   "display_name": "torch-ENV",
   "language": "python",
   "name": "torch"
  },
  "language_info": {
   "codemirror_mode": {
    "name": "ipython",
    "version": 3
   },
   "file_extension": ".py",
   "mimetype": "text/x-python",
   "name": "python",
   "nbconvert_exporter": "python",
   "pygments_lexer": "ipython3",
   "version": "3.8.5"
  }
 },
 "nbformat": 4,
 "nbformat_minor": 4
}

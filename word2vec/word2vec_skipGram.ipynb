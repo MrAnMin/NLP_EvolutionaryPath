{
 "cells": [
  {
   "cell_type": "markdown",
   "metadata": {},
   "source": [
    "### Word2Ver的skip-gram模式\n",
    "\n",
    "\n",
    "![img](data/image/Word2Vec.jpg)"
   ]
  },
  {
   "cell_type": "code",
   "execution_count": 1,
   "metadata": {},
   "outputs": [],
   "source": [
    "import torch\n",
    "import torch.nn as nn\n",
    "import torch.optim as optim\n",
    "import matplotlib.pyplot as plt"
   ]
  },
  {
   "cell_type": "markdown",
   "metadata": {},
   "source": [
    "#### 创建一个简单的数据集 用于验证简单的Skip-Gram模型"
   ]
  },
  {
   "cell_type": "code",
   "execution_count": 2,
   "metadata": {},
   "outputs": [],
   "source": [
    "sentences = [\n",
    "    'Kage is Teacher',\n",
    "    'Mazong is Boss',\n",
    "    'Niuzong is Boss',\n",
    "    'Xiaobing is Student',\n",
    "    'Xiaoxue is Student'\n",
    "]\n",
    "words = ' '.join(sentences).split()\n",
    "wordlist = list(set(words))\n",
    "word_to_index = {word:index for index, word in enumerate(wordlist)}\n",
    "index_to_word = {index:word for index, word in enumerate(wordlist)}\n",
    "voc_size = len(wordlist)"
   ]
  },
  {
   "cell_type": "markdown",
   "metadata": {},
   "source": [
    "#### 生成 skip-gram 数据集"
   ]
  },
  {
   "cell_type": "code",
   "execution_count": 3,
   "metadata": {},
   "outputs": [],
   "source": [
    "def create_skipgram_dataset(sentences, window_size=2):\n",
    "    data = []\n",
    "    for sentence in sentences:\n",
    "        sentence = sentence.split()\n",
    "        for idx, word in enumerate(sentence):\n",
    "            for neighbor in sentence[max(idx-window_size, 0):min(idx+window_size+1, len(sentence))]:\n",
    "                if neighbor != word:\n",
    "                    data.append((neighbor, word))\n",
    "    return data"
   ]
  },
  {
   "cell_type": "code",
   "execution_count": 4,
   "metadata": {},
   "outputs": [],
   "source": [
    "skipgram_data = create_skipgram_dataset(sentences)"
   ]
  },
  {
   "cell_type": "code",
   "execution_count": 5,
   "metadata": {},
   "outputs": [
    {
     "data": {
      "text/plain": [
       "[('is', 'Kage'), ('Teacher', 'Kage'), ('Kage', 'is')]"
      ]
     },
     "execution_count": 5,
     "metadata": {},
     "output_type": "execute_result"
    }
   ],
   "source": [
    "skipgram_data[:3]"
   ]
  },
  {
   "cell_type": "markdown",
   "metadata": {},
   "source": [
    "#### 进行one-hot编码"
   ]
  },
  {
   "cell_type": "code",
   "execution_count": 6,
   "metadata": {},
   "outputs": [],
   "source": [
    "def one_hot_encoding(word, word_to_idx):\n",
    "    tensor = torch.zeros(len(word_to_idx))\n",
    "    tensor[word_to_idx[word]] = 1\n",
    "    return tensor"
   ]
  },
  {
   "cell_type": "code",
   "execution_count": 7,
   "metadata": {},
   "outputs": [
    {
     "data": {
      "text/plain": [
       "{'is': 0,\n",
       " 'Student': 1,\n",
       " 'Teacher': 2,\n",
       " 'Xiaoxue': 3,\n",
       " 'Niuzong': 4,\n",
       " 'Xiaobing': 5,\n",
       " 'Kage': 6,\n",
       " 'Boss': 7,\n",
       " 'Mazong': 8}"
      ]
     },
     "execution_count": 7,
     "metadata": {},
     "output_type": "execute_result"
    }
   ],
   "source": [
    "word_to_index"
   ]
  },
  {
   "cell_type": "code",
   "execution_count": 8,
   "metadata": {},
   "outputs": [
    {
     "data": {
      "text/plain": [
       "tensor([0., 0., 1., 0., 0., 0., 0., 0., 0.])"
      ]
     },
     "execution_count": 8,
     "metadata": {},
     "output_type": "execute_result"
    }
   ],
   "source": [
    "one_hot_encoding('Teacher', word_to_index)"
   ]
  },
  {
   "cell_type": "markdown",
   "metadata": {},
   "source": [
    "#### 定义skip-gram类型"
   ]
  },
  {
   "cell_type": "code",
   "execution_count": 9,
   "metadata": {},
   "outputs": [],
   "source": [
    "class SkipGram(nn.Module):\n",
    "    def __init__(self, voc_size, embedding_size):\n",
    "        super(SkipGram, self).__init__()\n",
    "        self.input_to_hidden = nn.Linear(voc_size,embedding_size,bias = False)\n",
    "        self.hidden_to_output = nn.Linear(embedding_size, voc_size, bias = False)\n",
    "        \n",
    "    def forward(self, x):\n",
    "        #[batch_size, voc_size] -> [batch_size, embedding_size]\n",
    "        hidden = self.input_to_hidden(x)\n",
    "        # [batch_size, embedding_size]->[batch_size, voc_size]\n",
    "        output = self.hidden_to_output(hidden)\n",
    "        return output"
   ]
  },
  {
   "cell_type": "code",
   "execution_count": 19,
   "metadata": {},
   "outputs": [],
   "source": [
    "class SkipGramEmbedding(nn.Module):\n",
    "    def __init__(self, voc_size, embedding_size):\n",
    "        super(SkipGramEmbedding, self).__init__()\n",
    "        self.embedding = nn.Embedding(voc_size, embedding_size)\n",
    "        # self.input_to_hidden = nn.Linear(voc_size,embedding_size,bias = False)\n",
    "        self.hidden_to_output = nn.Linear(embedding_size, voc_size, bias = False)\n",
    "        \n",
    "    def forward(self, x):\n",
    "        #[batch_size, voc_size] -> [batch_size, embedding_size]\n",
    "        hidden = self.embedding(x)\n",
    "        # [batch_size, embedding_size]->[batch_size, voc_size]\n",
    "        output = self.hidden_to_output(hidden)\n",
    "        return output"
   ]
  },
  {
   "cell_type": "code",
   "execution_count": 10,
   "metadata": {},
   "outputs": [],
   "source": [
    "emb = nn.Embedding(9, 2)"
   ]
  },
  {
   "cell_type": "code",
   "execution_count": 13,
   "metadata": {},
   "outputs": [
    {
     "data": {
      "text/plain": [
       "torch.Size([2, 4, 2])"
      ]
     },
     "execution_count": 13,
     "metadata": {},
     "output_type": "execute_result"
    }
   ],
   "source": [
    "x = torch.tensor([[0,4,3,2],[1,2,3,4]])\n",
    "emb(x).shape"
   ]
  },
  {
   "cell_type": "markdown",
   "metadata": {},
   "source": [
    "#### 训练skipGram模型"
   ]
  },
  {
   "cell_type": "code",
   "execution_count": 37,
   "metadata": {},
   "outputs": [
    {
     "name": "stdout",
     "output_type": "stream",
     "text": [
      "Epoch:100, Loss:2.1822559158007304\n",
      "Epoch:200, Loss:2.1475614349047345\n",
      "Epoch:300, Loss:2.103223081429799\n",
      "Epoch:400, Loss:2.0444663643836973\n",
      "Epoch:500, Loss:1.9749744296073914\n",
      "Epoch:600, Loss:1.9100400686264039\n",
      "Epoch:700, Loss:1.8633092204729715\n",
      "Epoch:800, Loss:1.833313806851705\n",
      "Epoch:900, Loss:1.8121854345003763\n",
      "Epoch:1000, Loss:1.794832855463028\n"
     ]
    }
   ],
   "source": [
    "learning_rate = 0.001\n",
    "epochs = 1000\n",
    "skipgram_model = SkipGram(voc_size, 2)\n",
    "criterion = nn.CrossEntropyLoss()\n",
    "optimizer = optim.SGD(skipgram_model.parameters(), lr = learning_rate)\n",
    "\n",
    "loss_values = []\n",
    "for epoch in range(epochs):\n",
    "    loss_sum = 0\n",
    "    for context, target in skipgram_data:\n",
    "        x = one_hot_encoding(target, word_to_index).float().unsqueeze(0)\n",
    "        y_true = torch.tensor([word_to_index[context]], dtype=torch.long)\n",
    "        y_pred = skipgram_model(x)\n",
    "        loss = criterion(y_pred, y_true)\n",
    "        loss_sum += loss.item()\n",
    "        optimizer.zero_grad()\n",
    "        loss.backward()\n",
    "        optimizer.step()\n",
    "    if (epoch+1) % 100 == 0:\n",
    "        print(f\"Epoch:{epoch+1}, Loss:{loss_sum / len(skipgram_data)}\")\n",
    "        loss_values.append(loss_sum / len(skipgram_data))\n",
    "        \n"
   ]
  },
  {
   "cell_type": "markdown",
   "metadata": {},
   "source": [
    "#### 训练skipGram模型 Embedding 版"
   ]
  },
  {
   "cell_type": "code",
   "execution_count": 24,
   "metadata": {
    "collapsed": true,
    "jupyter": {
     "outputs_hidden": true
    }
   },
   "outputs": [
    {
     "name": "stdout",
     "output_type": "stream",
     "text": [
      "Epoch:100, Loss:2.079574370384216\n",
      "Epoch:200, Loss:2.031510857741038\n",
      "Epoch:300, Loss:1.9952849586804708\n",
      "Epoch:400, Loss:1.9667276859283447\n",
      "Epoch:500, Loss:1.9438509444395702\n",
      "Epoch:600, Loss:1.9249318778514861\n",
      "Epoch:700, Loss:1.908656257390976\n",
      "Epoch:800, Loss:1.894148164987564\n",
      "Epoch:900, Loss:1.8808275580406189\n",
      "Epoch:1000, Loss:1.8682923078536988\n",
      "Epoch:1100, Loss:1.8562466859817506\n",
      "Epoch:1200, Loss:1.844468100865682\n",
      "Epoch:1300, Loss:1.832792846361796\n",
      "Epoch:1400, Loss:1.8211134533087412\n",
      "Epoch:1500, Loss:1.8093795319398245\n",
      "Epoch:1600, Loss:1.7975967148939769\n",
      "Epoch:1700, Loss:1.785822606086731\n",
      "Epoch:1800, Loss:1.77415531873703\n",
      "Epoch:1900, Loss:1.7627168814341228\n",
      "Epoch:2000, Loss:1.751633757352829\n",
      "Epoch:2100, Loss:1.7410189350446066\n",
      "Epoch:2200, Loss:1.7309589385986328\n",
      "Epoch:2300, Loss:1.7215075174967447\n",
      "Epoch:2400, Loss:1.7126866141955057\n",
      "Epoch:2500, Loss:1.7044918338457744\n",
      "Epoch:2600, Loss:1.69689937432607\n",
      "Epoch:2700, Loss:1.6898745278517404\n",
      "Epoch:2800, Loss:1.6833756109078726\n",
      "Epoch:2900, Loss:1.677360055843989\n",
      "Epoch:3000, Loss:1.6717849175135295\n",
      "Epoch:3100, Loss:1.6666094481945037\n",
      "Epoch:3200, Loss:1.6617953797181448\n",
      "Epoch:3300, Loss:1.657307118177414\n",
      "Epoch:3400, Loss:1.6531116127967835\n",
      "Epoch:3500, Loss:1.6491788665453593\n",
      "Epoch:3600, Loss:1.6454812169075013\n",
      "Epoch:3700, Loss:1.6419932961463928\n",
      "Epoch:3800, Loss:1.6386926074822743\n",
      "Epoch:3900, Loss:1.6355590363343557\n",
      "Epoch:4000, Loss:1.6325753013292947\n",
      "Epoch:4100, Loss:1.629725597302119\n",
      "Epoch:4200, Loss:1.6269971172014872\n",
      "Epoch:4300, Loss:1.6243783195813497\n",
      "Epoch:4400, Loss:1.6218600571155548\n",
      "Epoch:4500, Loss:1.6194339871406556\n",
      "Epoch:4600, Loss:1.617094389597575\n",
      "Epoch:4700, Loss:1.6148349404335023\n",
      "Epoch:4800, Loss:1.6126525402069092\n",
      "Epoch:4900, Loss:1.610543034474055\n",
      "Epoch:5000, Loss:1.6085039178530376\n",
      "Epoch:5100, Loss:1.6065334995587668\n",
      "Epoch:5200, Loss:1.6046304861704508\n",
      "Epoch:5300, Loss:1.6027935187021891\n",
      "Epoch:5400, Loss:1.6010221640268962\n",
      "Epoch:5500, Loss:1.5993161002794902\n",
      "Epoch:5600, Loss:1.597675895690918\n",
      "Epoch:5700, Loss:1.596101180712382\n",
      "Epoch:5800, Loss:1.5945913235346476\n",
      "Epoch:5900, Loss:1.5931461652119954\n",
      "Epoch:6000, Loss:1.591765296459198\n",
      "Epoch:6100, Loss:1.5904478867848715\n",
      "Epoch:6200, Loss:1.5891926765441895\n",
      "Epoch:6300, Loss:1.5879981180032094\n",
      "Epoch:6400, Loss:1.5868632376194\n",
      "Epoch:6500, Loss:1.5857852419217429\n",
      "Epoch:6600, Loss:1.5847616732120513\n",
      "Epoch:6700, Loss:1.5837903439998626\n",
      "Epoch:6800, Loss:1.5828681071599324\n",
      "Epoch:6900, Loss:1.5819925745328267\n",
      "Epoch:7000, Loss:1.5811609188715616\n",
      "Epoch:7100, Loss:1.5803707420825959\n",
      "Epoch:7200, Loss:1.5796191136042277\n",
      "Epoch:7300, Loss:1.5789033472537994\n",
      "Epoch:7400, Loss:1.5782209773858389\n",
      "Epoch:7500, Loss:1.5775695323944092\n",
      "Epoch:7600, Loss:1.5769471108913422\n",
      "Epoch:7700, Loss:1.5763511856396992\n",
      "Epoch:7800, Loss:1.5757797598838805\n",
      "Epoch:7900, Loss:1.575231126944224\n",
      "Epoch:8000, Loss:1.574703194697698\n",
      "Epoch:8100, Loss:1.57419456243515\n",
      "Epoch:8200, Loss:1.5737035115559896\n",
      "Epoch:8300, Loss:1.5732287128766378\n",
      "Epoch:8400, Loss:1.5727686703205108\n",
      "Epoch:8500, Loss:1.5723221977551778\n",
      "Epoch:8600, Loss:1.5718879540761312\n",
      "Epoch:8700, Loss:1.571465164422989\n",
      "Epoch:8800, Loss:1.5710524996121724\n",
      "Epoch:8900, Loss:1.5706492861111958\n",
      "Epoch:9000, Loss:1.5702544689178466\n",
      "Epoch:9100, Loss:1.5698672115802765\n",
      "Epoch:9200, Loss:1.569486794869105\n",
      "Epoch:9300, Loss:1.5691126823425292\n",
      "Epoch:9400, Loss:1.5687439382076263\n",
      "Epoch:9500, Loss:1.5683798690636952\n",
      "Epoch:9600, Loss:1.5680201530456543\n",
      "Epoch:9700, Loss:1.5676639199256897\n",
      "Epoch:9800, Loss:1.5673108498255413\n",
      "Epoch:9900, Loss:1.5669603327910104\n",
      "Epoch:10000, Loss:1.5666123966375987\n"
     ]
    }
   ],
   "source": [
    "learning_rate = 0.001\n",
    "epochs = 10000\n",
    "skipgram_model_emb = SkipGramEmbedding(voc_size, 2)\n",
    "criterion = nn.CrossEntropyLoss()\n",
    "optimizer = optim.SGD(params=skipgram_model_emb.parameters(), lr=learning_rate)\n",
    "loss_values = []\n",
    "for epoch in range(epochs):\n",
    "    loss_sum = 0\n",
    "    for context, word in skipgram_data:\n",
    "        x = torch.tensor([word_to_index[context]],dtype=torch.long)\n",
    "        y_true = torch.tensor([word_to_index[word]], dtype=torch.long)\n",
    "        y_pred = skipgram_model_emb(x)\n",
    "        loss = criterion(y_pred, y_true)\n",
    "        loss_sum += loss.item()\n",
    "        optimizer.zero_grad()\n",
    "        loss.backward()\n",
    "        optimizer.step()\n",
    "    if(epoch+1) % 100 == 0:\n",
    "        print(f\"Epoch:{epoch+1}, Loss:{loss_sum / len(skipgram_data)}\")\n",
    "        loss_values.append(loss_sum / len(skipgram_data))\n"
   ]
  },
  {
   "cell_type": "code",
   "execution_count": 31,
   "metadata": {},
   "outputs": [
    {
     "data": {
      "text/plain": [
       "Parameter containing:\n",
       "tensor([[-1.1009,  1.0087],\n",
       "        [ 0.4891, -0.5022],\n",
       "        [ 1.6869, -0.3140],\n",
       "        [-1.1073, -2.1590],\n",
       "        [-0.4129, -1.1940],\n",
       "        [-1.1442, -2.2140],\n",
       "        [-1.6217, -3.0540],\n",
       "        [ 3.5218, -0.3147],\n",
       "        [-0.4116, -1.1925]], requires_grad=True)"
      ]
     },
     "execution_count": 31,
     "metadata": {},
     "output_type": "execute_result"
    }
   ],
   "source": [
    "# 查看embedding向量\n",
    "\n",
    "skipgram_model_emb.embedding.weight"
   ]
  },
  {
   "cell_type": "markdown",
   "metadata": {},
   "source": [
    "#### 画出loss图片"
   ]
  },
  {
   "cell_type": "code",
   "execution_count": 26,
   "metadata": {},
   "outputs": [
    {
     "data": {
      "image/png": "[encoded data removed]",
      "text/plain": [
       "<Figure size 432x288 with 1 Axes>"
      ]
     },
     "metadata": {
      "needs_background": "light"
     },
     "output_type": "display_data"
    }
   ],
   "source": [
    "# plt.rcParams[\"font.family\"] = ['SimHei']\n",
    "# plt.rcParams[\"font.sans-serif\"] = ['SimHei']\n",
    "plt.rcParams[\"axes.unicode_minus\"] = False\n",
    "plt.plot(range(1, epochs//100 + 1), loss_values)\n",
    "plt.title(\"loss_title\")\n",
    "plt.xlabel(\"epoch\")\n",
    "plt.ylabel(\"loss\")\n",
    "plt.show()"
   ]
  },
  {
   "cell_type": "markdown",
   "metadata": {},
   "source": [
    "#### 输出学习到的词向量"
   ]
  },
  {
   "cell_type": "code",
   "execution_count": 69,
   "metadata": {},
   "outputs": [
    {
     "name": "stdout",
     "output_type": "stream",
     "text": [
      "Niuzong [ 0.65769047 -0.26466107]\n",
      "Teacher [ 0.14655927 -0.7789605 ]\n",
      "is [-0.43320093  0.3179107 ]\n",
      "Boss [ 0.30376348 -0.8967997 ]\n",
      "Xiaobing [ 0.42115295 -1.0312868 ]\n",
      "Student [ 1.3189254  -0.08067948]\n",
      "Kage [ 0.47978416 -0.19884777]\n",
      "Xiaoxue [ 0.42179698 -1.0321187 ]\n",
      "Mazong [ 0.56012803 -0.31129205]\n"
     ]
    }
   ],
   "source": [
    "weight = skipgram_model.input_to_hidden.weight.detach().numpy()\n",
    "for word, idx in word_to_index.items():\n",
    "    print(word, weight[:, idx])"
   ]
  },
  {
   "cell_type": "code",
   "execution_count": 72,
   "metadata": {},
   "outputs": [
    {
     "data": {
      "image/png": "[encoded data removed]",
      "text/plain": [
       "<Figure size 432x288 with 1 Axes>"
      ]
     },
     "metadata": {
      "needs_background": "light"
     },
     "output_type": "display_data"
    }
   ],
   "source": [
    "fig,ax = plt.subplots()\n",
    "for word, idx in word_to_index.items():\n",
    "    vec = skipgram_model.input_to_hidden.weight[:,idx].detach().numpy()\n",
    "    ax.scatter(vec[0],vec[1])\n",
    "    ax.annotate(word, (vec[0], vec[1]), fontsize=12)"
   ]
  }
 ],
 "metadata": {
  "kernelspec": {
   "display_name": "Python 3",
   "language": "python",
   "name": "python3"
  },
  "language_info": {
   "codemirror_mode": {
    "name": "ipython",
    "version": 3
   },
   "file_extension": ".py",
   "mimetype": "text/x-python",
   "name": "python",
   "nbconvert_exporter": "python",
   "pygments_lexer": "ipython3",
   "version": "3.8.3"
  }
 },
 "nbformat": 4,
 "nbformat_minor": 4
}

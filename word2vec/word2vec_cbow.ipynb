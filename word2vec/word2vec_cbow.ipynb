{
 "cells": [
  {
   "cell_type": "code",
   "execution_count": 1,
   "metadata": {},
   "outputs": [],
   "source": [
    "import torch\n",
    "import torch.nn as nn\n",
    "import torch.optim as optim\n",
    "from matplotlib import pyplot as plt"
   ]
  },
  {
   "cell_type": "markdown",
   "metadata": {},
   "source": [
    "#### 创建一个简单的数据集 用于验证简单的CBOW模型"
   ]
  },
  {
   "cell_type": "code",
   "execution_count": 2,
   "metadata": {},
   "outputs": [],
   "source": [
    "sentences = [\n",
    "    'Kage is Teacher',\n",
    "    'Mazong is Boss',\n",
    "    'Niuzong is Boss',\n",
    "    'Xiaobing is Student',\n",
    "    'Xiaoxue is Student'\n",
    "]\n",
    "\n",
    "words = ' '.join(sentences).split()\n",
    "wordlist = list(set(words))\n",
    "word_to_idx = {word:idx for idx, word in enumerate(wordlist)}\n",
    "idx_to_word = {idx:word for idx, word in enumerate(wordlist)}\n",
    "voc_size = len(wordlist)"
   ]
  },
  {
   "cell_type": "markdown",
   "metadata": {},
   "source": [
    "#### 生成 CBOW 数据集"
   ]
  },
  {
   "cell_type": "code",
   "execution_count": 3,
   "metadata": {},
   "outputs": [],
   "source": [
    "def create_cbow_dataset(sentences, window_size=2):\n",
    "    data = []\n",
    "    for sentence in sentences:\n",
    "        sentence = sentence.split()\n",
    "        for idx, word in enumerate(sentence):\n",
    "            context = sentence[max(0, idx-window_size):idx] + \n",
    "            sentence[idx+1:min(idx+window_size+1, len(sentence))]\n",
    "            data.append((word, context))\n",
    "    return data"
   ]
  },
  {
   "cell_type": "code",
   "execution_count": 4,
   "metadata": {},
   "outputs": [],
   "source": [
    "cbow_data = create_cbow_dataset(sentences)"
   ]
  },
  {
   "cell_type": "markdown",
   "metadata": {},
   "source": [
    "#### 进行one-hot编码"
   ]
  },
  {
   "cell_type": "code",
   "execution_count": 5,
   "metadata": {},
   "outputs": [],
   "source": [
    "def one_hot_embedding(word, word_to_idx):\n",
    "    tensor = torch.zeros(len(word_to_idx))\n",
    "    tensor[word_to_idx[word]] = 1\n",
    "    return tensor"
   ]
  },
  {
   "cell_type": "code",
   "execution_count": 6,
   "metadata": {},
   "outputs": [
    {
     "data": {
      "text/plain": [
       "(tensor([0., 0., 0., 1., 0., 0., 0., 0., 0.]), 3)"
      ]
     },
     "execution_count": 6,
     "metadata": {},
     "output_type": "execute_result"
    }
   ],
   "source": [
    "one_hot_embedding('Kage', word_to_idx), word_to_idx['Kage']"
   ]
  },
  {
   "cell_type": "markdown",
   "metadata": {},
   "source": [
    "#### 定义CBOW类型"
   ]
  },
  {
   "cell_type": "code",
   "execution_count": 7,
   "metadata": {},
   "outputs": [],
   "source": [
    "class CBOW(nn.Module):\n",
    "    def __init__(self, voc_size, embedding_size):\n",
    "        super(CBOW, self).__init__()\n",
    "        self.input_to_hidden = nn.Linear(voc_size, embedding_size, bias = False)\n",
    "        self.hidden_to_output = nn.Linear(embedding_size, voc_size, bias = False)\n",
    "    \n",
    "    def forward(self, x):\n",
    "        embedding = self.input_to_hidden(x)\n",
    "        hidden_layer = torch.mean(embedding, dim=0)\n",
    "        output_layer = self.hidden_to_output(hidden_layer.unsqueeze(0))\n",
    "        return output_layer"
   ]
  },
  {
   "cell_type": "markdown",
   "metadata": {},
   "source": [
    "#### 训练 CBOW 模型"
   ]
  },
  {
   "cell_type": "code",
   "execution_count": 10,
   "metadata": {
    "collapsed": true,
    "jupyter": {
     "outputs_hidden": true
    }
   },
   "outputs": [
    {
     "name": "stdout",
     "output_type": "stream",
     "text": [
      "Epoch:100, Loss:2.178321441014608\n",
      "Epoch:200, Loss:2.1680161555608115\n",
      "Epoch:300, Loss:2.1572810411453247\n",
      "Epoch:400, Loss:2.1455679098765055\n",
      "Epoch:500, Loss:2.132300066947937\n",
      "Epoch:600, Loss:2.116826550165812\n",
      "Epoch:700, Loss:2.098378332455953\n",
      "Epoch:800, Loss:2.076028275489807\n",
      "Epoch:900, Loss:2.0486605008443197\n",
      "Epoch:1000, Loss:2.014968244234721\n",
      "Epoch:1100, Loss:1.973512355486552\n",
      "Epoch:1200, Loss:1.922896917661031\n",
      "Epoch:1300, Loss:1.8621316830317178\n",
      "Epoch:1400, Loss:1.7912085930506387\n",
      "Epoch:1500, Loss:1.711743450164795\n",
      "Epoch:1600, Loss:1.627231280008952\n",
      "Epoch:1700, Loss:1.5424003024895987\n",
      "Epoch:1800, Loss:1.461809633175532\n",
      "Epoch:1900, Loss:1.388579245408376\n",
      "Epoch:2000, Loss:1.3239681482315064\n",
      "Epoch:2100, Loss:1.2677437285582225\n",
      "Epoch:2200, Loss:1.218855294585228\n",
      "Epoch:2300, Loss:1.1759864747524262\n",
      "Epoch:2400, Loss:1.1378802925348281\n",
      "Epoch:2500, Loss:1.103483143945535\n",
      "Epoch:2600, Loss:1.0719762628277143\n",
      "Epoch:2700, Loss:1.0427607576052347\n",
      "Epoch:2800, Loss:1.0154207170009613\n",
      "Epoch:2900, Loss:0.9896819519499938\n",
      "Epoch:3000, Loss:0.9653749925394853\n"
     ]
    }
   ],
   "source": [
    "learning_rate = 0.001\n",
    "epochs = 3000\n",
    "cbow_model = CBOW(voc_size, 2)\n",
    "criterion = nn.CrossEntropyLoss()\n",
    "optimizer = optim.SGD(params=cbow_model.parameters(), lr=learning_rate)\n",
    "\n",
    "loss_values = []\n",
    "for epoch in range(epochs):\n",
    "    loss_sum = 0\n",
    "    for traget, contexts in cbow_data:\n",
    "        x = torch.stack([one_hot_embedding(context, word_to_idx) for context in contexts]).float()\n",
    "        y_true = torch.tensor(word_to_idx[traget], dtype=torch.long).unsqueeze(0)\n",
    "        y_pred = cbow_model(x)\n",
    "        loss = criterion(y_pred, y_true)\n",
    "        loss_sum += loss.item()\n",
    "        optimizer.zero_grad()\n",
    "        loss.backward()\n",
    "        optimizer.step()\n",
    "    if (epoch+1) % 100 == 0:\n",
    "        print(f\"Epoch:{epoch+1}, Loss:{loss_sum / len(cbow_data)}\")\n",
    "        loss_values.append(loss_sum / len(cbow_data))"
   ]
  },
  {
   "cell_type": "markdown",
   "metadata": {},
   "source": [
    "#### 画出loss曲线"
   ]
  },
  {
   "cell_type": "code",
   "execution_count": 21,
   "metadata": {},
   "outputs": [
    {
     "data": {
      "image/png": "[encoded data removed]",
      "text/plain": [
       "<Figure size 720x360 with 1 Axes>"
      ]
     },
     "metadata": {
      "needs_background": "light"
     },
     "output_type": "display_data"
    }
   ],
   "source": [
    "# 设置图形大小\n",
    "plt.figure(figsize=(10, 5))\n",
    "plt.plot(range(1, len(loss_values)+1), loss_values, 'ro-', label=\"loss\")\n",
    "plt.xlabel('epoch')\n",
    "plt.ylabel('loss')\n",
    "plt.title('cbow_loss')\n",
    "plt.legend()\n",
    "plt.show()"
   ]
  },
  {
   "cell_type": "markdown",
   "metadata": {},
   "source": [
    "#### Skip-Garm 和 CBOW 的区别"
   ]
  },
  {
   "cell_type": "markdown",
   "metadata": {},
   "source": [
    "|模型|训练目标|结构|性能|\n",
    "|----|----|--|--|\n",
    "|Skip-Gram模型|给定一个目标词，预测上下文词。因此，它的训练目标是在给定目标词的情况下，使上下文出现的条件概率最大化|模型首先是将目标词映射到嵌入向量空间，然后从嵌入向量空间映射回词汇表空间以预测上下文词的概率分布|由于其目的是预测多个上下文词，其在捕捉稀有词和更复杂的词语关系方面表现得更好|\n",
    "|CBOW模型|给定上下文词，预测目标词。因此它的训练目标是在给定上下文的情况下，使目标词出现的条件概率最大化|模型首先将上下文词汇映射到嵌入向量空间，然后从嵌入向量空间映射回词汇表空间以预测目标词的概率分布|由于其目标是预测一个目标词，其在训练速度和捕捉高频词语关系方面表得更好|"
   ]
  },
  {
   "cell_type": "markdown",
   "metadata": {},
   "source": [
    "#### word2vec缺点：\n",
    "\n",
    "- 词向量大小是固定的。word2vec这种“在全部语料上一次性学习，然后反复使用”的词向量成为静态词向量。它为每个单词声称一个固定大小的向量，这个限制了模型捕捉词义多样性的能力。\n",
    "- 无法实现一词多义，在自然语言中，许多单词具有多种含义，但word2vec无法为这些不同的含义生成多个向量表示。\n",
    "- 无法处理未知词汇。word2vec只能为训练过程中出现过的单词生成词向量。"
   ]
  }
 ],
 "metadata": {
  "kernelspec": {
   "display_name": "torch-ENV",
   "language": "python",
   "name": "torch"
  },
  "language_info": {
   "codemirror_mode": {
    "name": "ipython",
    "version": 3
   },
   "file_extension": ".py",
   "mimetype": "text/x-python",
   "name": "python",
   "nbconvert_exporter": "python",
   "pygments_lexer": "ipython3",
   "version": "3.8.5"
  }
 },
 "nbformat": 4,
 "nbformat_minor": 4
}
